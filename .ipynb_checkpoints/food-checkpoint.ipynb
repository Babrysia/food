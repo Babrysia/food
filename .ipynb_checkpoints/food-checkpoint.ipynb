{
 "cells": [
  {
   "cell_type": "code",
   "execution_count": 3,
   "id": "21e3defe",
   "metadata": {},
   "outputs": [],
   "source": [
    "import pandas as pd"
   ]
  },
  {
   "cell_type": "code",
   "execution_count": 4,
   "id": "79e972f8",
   "metadata": {},
   "outputs": [],
   "source": [
    "import numpy as np"
   ]
  },
  {
   "cell_type": "code",
   "execution_count": 5,
   "id": "2f5494d4",
   "metadata": {},
   "outputs": [],
   "source": [
    "import matplotlib.pyplot as plt"
   ]
  },
  {
   "cell_type": "code",
   "execution_count": null,
   "id": "e627bbe9",
   "metadata": {},
   "outputs": [],
   "source": []
  },
  {
   "cell_type": "code",
   "execution_count": null,
   "id": "c803e788",
   "metadata": {},
   "outputs": [],
   "source": [
    "#load dataset into df called food "
   ]
  },
  {
   "cell_type": "code",
   "execution_count": 6,
   "id": "642cc07c",
   "metadata": {},
   "outputs": [],
   "source": [
    "df=pd.read_csv(r\"C:\\Users\\karol\\Desktop\\Gabi\\UCD 2022\\Data sets\\Food_Production.csv\", index_col=0)"
   ]
  },
  {
   "cell_type": "code",
   "execution_count": 7,
   "id": "48c6ad0c",
   "metadata": {},
   "outputs": [],
   "source": [
    "food=df"
   ]
  },
  {
   "cell_type": "code",
   "execution_count": null,
   "id": "d874c8aa",
   "metadata": {},
   "outputs": [],
   "source": []
  },
  {
   "cell_type": "code",
   "execution_count": 8,
   "id": "01d785d5",
   "metadata": {},
   "outputs": [
    {
     "name": "stdout",
     "output_type": "stream",
     "text": [
      "Shape of the dataframe: 43 rows and 22 columns.\n"
     ]
    }
   ],
   "source": [
    "print(f\"Shape of the dataframe: {food.shape[0]} rows and {food.shape[1]} columns.\")"
   ]
  },
  {
   "cell_type": "code",
   "execution_count": 10,
   "id": "89df224b",
   "metadata": {},
   "outputs": [
    {
     "name": "stdout",
     "output_type": "stream",
     "text": [
      "                     Land use change  Animal Feed  Farm  Processing  \\\n",
      "Food product                                                          \n",
      "Wheat & Rye (Bread)              0.1          0.0   0.8         0.2   \n",
      "Maize (Meal)                     0.3          0.0   0.5         0.1   \n",
      "Barley (Beer)                    0.0          0.0   0.2         0.1   \n",
      "Oatmeal                          0.0          0.0   1.4         0.0   \n",
      "Rice                             0.0          0.0   3.6         0.1   \n",
      "\n",
      "                     Transport  Packging  Retail  Total_emissions  \\\n",
      "Food product                                                        \n",
      "Wheat & Rye (Bread)        0.1       0.1     0.1              1.4   \n",
      "Maize (Meal)               0.1       0.1     0.0              1.1   \n",
      "Barley (Beer)              0.0       0.5     0.3              1.1   \n",
      "Oatmeal                    0.1       0.1     0.0              1.6   \n",
      "Rice                       0.1       0.1     0.1              4.0   \n",
      "\n",
      "                     Eu-em per 1000kcal  Eu-em per kg  ...  \\\n",
      "Food product                                           ...   \n",
      "Wheat & Rye (Bread)                 NaN           NaN  ...   \n",
      "Maize (Meal)                        NaN           NaN  ...   \n",
      "Barley (Beer)                       NaN           NaN  ...   \n",
      "Oatmeal                        4.281357         11.23  ...   \n",
      "Rice                           9.514379         35.07  ...   \n",
      "\n",
      "                     Freshwater withdrawals per 100g protein (liters per 100g protein)  \\\n",
      "Food product                                                                             \n",
      "Wheat & Rye (Bread)                                                NaN                   \n",
      "Maize (Meal)                                                       NaN                   \n",
      "Barley (Beer)                                                      NaN                   \n",
      "Oatmeal                                                     371.076923                   \n",
      "Rice                                                       3166.760563                   \n",
      "\n",
      "                     Freshwater withdrawals per kilogram (liters per kilogram)  \\\n",
      "Food product                                                                     \n",
      "Wheat & Rye (Bread)                                                NaN           \n",
      "Maize (Meal)                                                       NaN           \n",
      "Barley (Beer)                                                      NaN           \n",
      "Oatmeal                                                          482.4           \n",
      "Rice                                                            2248.4           \n",
      "\n",
      "                     Greenhouse gas emissions per 1000kcal (kgCO₂eq per 1000kcal)  \\\n",
      "Food product                                                                        \n",
      "Wheat & Rye (Bread)                                                NaN              \n",
      "Maize (Meal)                                                       NaN              \n",
      "Barley (Beer)                                                      NaN              \n",
      "Oatmeal                                                       0.945482              \n",
      "Rice                                                          1.207271              \n",
      "\n",
      "                     Greenhouse gas emissions per 100g protein (kgCO₂eq per 100g protein)  \\\n",
      "Food product                                                                                \n",
      "Wheat & Rye (Bread)                                                NaN                      \n",
      "Maize (Meal)                                                       NaN                      \n",
      "Barley (Beer)                                                      NaN                      \n",
      "Oatmeal                                                       1.907692                      \n",
      "Rice                                                          6.267606                      \n",
      "\n",
      "                     Land use per 1000kcal (m² per 1000kcal)  \\\n",
      "Food product                                                   \n",
      "Wheat & Rye (Bread)                                      NaN   \n",
      "Maize (Meal)                                             NaN   \n",
      "Barley (Beer)                                            NaN   \n",
      "Oatmeal                                             2.897446   \n",
      "Rice                                                0.759631   \n",
      "\n",
      "                     Land use per kilogram (m² per kilogram)  \\\n",
      "Food product                                                   \n",
      "Wheat & Rye (Bread)                                      NaN   \n",
      "Maize (Meal)                                             NaN   \n",
      "Barley (Beer)                                            NaN   \n",
      "Oatmeal                                                  7.6   \n",
      "Rice                                                     2.8   \n",
      "\n",
      "                     Land use per 100g protein (m² per 100g protein)  \\\n",
      "Food product                                                           \n",
      "Wheat & Rye (Bread)                                              NaN   \n",
      "Maize (Meal)                                                     NaN   \n",
      "Barley (Beer)                                                    NaN   \n",
      "Oatmeal                                                     5.846154   \n",
      "Rice                                                        3.943662   \n",
      "\n",
      "                     Scarcity-weighted water use per kilogram (liters per kilogram)  \\\n",
      "Food product                                                                          \n",
      "Wheat & Rye (Bread)                                                NaN                \n",
      "Maize (Meal)                                                       NaN                \n",
      "Barley (Beer)                                                      NaN                \n",
      "Oatmeal                                                        18786.2                \n",
      "Rice                                                           49576.3                \n",
      "\n",
      "                     Scarcity-weighted water use per 100g protein (liters per 100g protein)  \\\n",
      "Food product                                                                                  \n",
      "Wheat & Rye (Bread)                                                NaN                        \n",
      "Maize (Meal)                                                       NaN                        \n",
      "Barley (Beer)                                                      NaN                        \n",
      "Oatmeal                                                    14450.92308                        \n",
      "Rice                                                       69825.77465                        \n",
      "\n",
      "                     Scarcity-weighted water use per 1000kcal (liters per 1000 kilocalories)  \n",
      "Food product                                                                                  \n",
      "Wheat & Rye (Bread)                                                NaN                        \n",
      "Maize (Meal)                                                       NaN                        \n",
      "Barley (Beer)                                                      NaN                        \n",
      "Oatmeal                                                    7162.104461                        \n",
      "Rice                                                      13449.891480                        \n",
      "\n",
      "[5 rows x 22 columns]\n"
     ]
    }
   ],
   "source": [
    "print(food.head())"
   ]
  },
  {
   "cell_type": "code",
   "execution_count": null,
   "id": "0ae61d76",
   "metadata": {},
   "outputs": [],
   "source": []
  },
  {
   "cell_type": "code",
   "execution_count": 17,
   "id": "ebb4519e",
   "metadata": {},
   "outputs": [
    {
     "name": "stdout",
     "output_type": "stream",
     "text": [
      "<class 'pandas.core.frame.DataFrame'>\n",
      "Index: 43 entries, Wheat & Rye (Bread) to Shrimps (farmed)\n",
      "Data columns (total 22 columns):\n",
      " #   Column                                                                   Non-Null Count  Dtype  \n",
      "---  ------                                                                   --------------  -----  \n",
      " 0   Land use change                                                          43 non-null     float64\n",
      " 1   Animal Feed                                                              43 non-null     float64\n",
      " 2   Farm                                                                     43 non-null     float64\n",
      " 3   Processing                                                               43 non-null     float64\n",
      " 4   Transport                                                                43 non-null     float64\n",
      " 5   Packging                                                                 43 non-null     float64\n",
      " 6   Retail                                                                   43 non-null     float64\n",
      " 7   Total_emissions                                                          43 non-null     float64\n",
      " 8   Eu-em per 1000kcal                                                       33 non-null     float64\n",
      " 9   Eu-em per kg                                                             38 non-null     float64\n",
      " 10  Eu-em per 100g protein                                                   27 non-null     float64\n",
      " 11  Fresch H2O withd per 1000kcal                                            30 non-null     float64\n",
      " 12  Fresch H2O withd per 100g protein                                        26 non-null     float64\n",
      " 13  Fresch H2O withd per kg                                                  38 non-null     float64\n",
      " 14  Greenhouse gas emissions per 1000kcal (kgCO₂eq per 1000kcal)             33 non-null     float64\n",
      " 15  Greenhouse gas emissions per 100g protein (kgCO₂eq per 100g protein)     27 non-null     float64\n",
      " 16  Land use per 1000kcal (m² per 1000kcal)                                  33 non-null     float64\n",
      " 17  Land use per kilogram (m² per kilogram)                                  38 non-null     float64\n",
      " 18  Land use per 100g protein (m² per 100g protein)                          27 non-null     float64\n",
      " 19  Scarcity-weighted water use per kilogram (liters per kilogram)           38 non-null     float64\n",
      " 20  Scarcity-weighted water use per 100g protein (liters per 100g protein)   26 non-null     float64\n",
      " 21  Scarcity-weighted water use per 1000kcal (liters per 1000 kilocalories)  30 non-null     float64\n",
      "dtypes: float64(22)\n",
      "memory usage: 7.7+ KB\n",
      "None\n"
     ]
    }
   ],
   "source": [
    "print(food.info())"
   ]
  },
  {
   "cell_type": "markdown",
   "id": "f1b517c3",
   "metadata": {},
   "source": [
    "RENAMING SOME COLUMNS "
   ]
  },
  {
   "cell_type": "code",
   "execution_count": 12,
   "id": "18dc862e",
   "metadata": {},
   "outputs": [],
   "source": [
    "#replacing 'Eutrophying emissions per' column names/labels \n",
    "food.rename(columns={'Eutrophying emissions per 1000kcal (gPO₄eq per 1000kcal)': 'Eu-em per 1000kcal', 'Eutrophying emissions per kilogram (gPO₄eq per kilogram)':'Eu-em per kg', 'Eutrophying emissions per 100g protein (gPO₄eq per 100 grams protein)':'Eu-em per 100g protein'}, inplace=True)"
   ]
  },
  {
   "cell_type": "code",
   "execution_count": 16,
   "id": "2699c9f0",
   "metadata": {},
   "outputs": [],
   "source": [
    "#replacing 'Freshwater withdrawals per' column names/labels \n",
    "food.rename(columns={'Freshwater withdrawals per 1000kcal (liters per 1000kcal)':'Fresch H2O withd per 1000kcal', 'Freshwater withdrawals per 100g protein (liters per 100g protein)':'Fresch H2O withd per 100g protein', 'Freshwater withdrawals per kilogram (liters per kilogram)':'Fresch H2O withd per kg'}, inplace=True)"
   ]
  },
  {
   "cell_type": "code",
   "execution_count": null,
   "id": "bfded347",
   "metadata": {},
   "outputs": [],
   "source": []
  },
  {
   "cell_type": "code",
   "execution_count": null,
   "id": "50f9cd6c",
   "metadata": {},
   "outputs": [],
   "source": []
  }
 ],
 "metadata": {
  "kernelspec": {
   "display_name": "Python 3 (ipykernel)",
   "language": "python",
   "name": "python3"
  },
  "language_info": {
   "codemirror_mode": {
    "name": "ipython",
    "version": 3
   },
   "file_extension": ".py",
   "mimetype": "text/x-python",
   "name": "python",
   "nbconvert_exporter": "python",
   "pygments_lexer": "ipython3",
   "version": "3.9.12"
  }
 },
 "nbformat": 4,
 "nbformat_minor": 5
}
