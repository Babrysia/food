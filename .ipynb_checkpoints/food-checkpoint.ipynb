{
 "cells": [
  {
   "cell_type": "code",
   "execution_count": 3,
   "id": "21e3defe",
   "metadata": {},
   "outputs": [],
   "source": [
    "import pandas as pd"
   ]
  },
  {
   "cell_type": "code",
   "execution_count": 4,
   "id": "79e972f8",
   "metadata": {},
   "outputs": [],
   "source": [
    "import numpy as np"
   ]
  },
  {
   "cell_type": "code",
   "execution_count": 5,
   "id": "2f5494d4",
   "metadata": {},
   "outputs": [],
   "source": [
    "import matplotlib.pyplot as plt"
   ]
  },
  {
   "cell_type": "code",
   "execution_count": null,
   "id": "e627bbe9",
   "metadata": {},
   "outputs": [],
   "source": []
  },
  {
   "cell_type": "code",
   "execution_count": null,
   "id": "c803e788",
   "metadata": {},
   "outputs": [],
   "source": [
    "#load dataset into df called food "
   ]
  },
  {
   "cell_type": "code",
   "execution_count": 6,
   "id": "642cc07c",
   "metadata": {},
   "outputs": [],
   "source": [
    "df=pd.read_csv(r\"C:\\Users\\karol\\Desktop\\Gabi\\UCD 2022\\Data sets\\Food_Production.csv\", index_col=0)"
   ]
  },
  {
   "cell_type": "code",
   "execution_count": 7,
   "id": "64b3a0a0",
   "metadata": {},
   "outputs": [],
   "source": [
    "food=df"
   ]
  },
  {
   "cell_type": "code",
   "execution_count": null,
   "id": "168665db",
   "metadata": {},
   "outputs": [],
   "source": []
  },
  {
   "cell_type": "code",
   "execution_count": 8,
   "id": "51869955",
   "metadata": {},
   "outputs": [
    {
     "name": "stdout",
     "output_type": "stream",
     "text": [
      "Shape of the dataframe: 43 rows and 22 columns.\n"
     ]
    }
   ],
   "source": [
    "print(f\"Shape of the dataframe: {food.shape[0]} rows and {food.shape[1]} columns.\")"
   ]
  },
  {
   "cell_type": "code",
   "execution_count": 13,
   "id": "89df224b",
   "metadata": {},
   "outputs": [
    {
     "name": "stdout",
     "output_type": "stream",
     "text": [
      "                     Land use change  Animal Feed  Farm  Processing  \\\n",
      "Food product                                                          \n",
      "Wheat & Rye (Bread)              0.1          0.0   0.8         0.2   \n",
      "Maize (Meal)                     0.3          0.0   0.5         0.1   \n",
      "Barley (Beer)                    0.0          0.0   0.2         0.1   \n",
      "Oatmeal                          0.0          0.0   1.4         0.0   \n",
      "Rice                             0.0          0.0   3.6         0.1   \n",
      "\n",
      "                     Transport  Packging  Retail  Total_emissions  \\\n",
      "Food product                                                        \n",
      "Wheat & Rye (Bread)        0.1       0.1     0.1              1.4   \n",
      "Maize (Meal)               0.1       0.1     0.0              1.1   \n",
      "Barley (Beer)              0.0       0.5     0.3              1.1   \n",
      "Oatmeal                    0.1       0.1     0.0              1.6   \n",
      "Rice                       0.1       0.1     0.1              4.0   \n",
      "\n",
      "                     Eutrophying emissions per 1000kcal (gPO₄eq per 1000kcal)  \\\n",
      "Food product                                                                    \n",
      "Wheat & Rye (Bread)                                                NaN          \n",
      "Maize (Meal)                                                       NaN          \n",
      "Barley (Beer)                                                      NaN          \n",
      "Oatmeal                                                       4.281357          \n",
      "Rice                                                          9.514379          \n",
      "\n",
      "                     Eutrophying emissions per kilogram (gPO₄eq per kilogram)  \\\n",
      "Food product                                                                    \n",
      "Wheat & Rye (Bread)                                                NaN          \n",
      "Maize (Meal)                                                       NaN          \n",
      "Barley (Beer)                                                      NaN          \n",
      "Oatmeal                                                          11.23          \n",
      "Rice                                                             35.07          \n",
      "\n",
      "                     ...  \\\n",
      "Food product         ...   \n",
      "Wheat & Rye (Bread)  ...   \n",
      "Maize (Meal)         ...   \n",
      "Barley (Beer)        ...   \n",
      "Oatmeal              ...   \n",
      "Rice                 ...   \n",
      "\n",
      "                     Freshwater withdrawals per 100g protein (liters per 100g protein)  \\\n",
      "Food product                                                                             \n",
      "Wheat & Rye (Bread)                                                NaN                   \n",
      "Maize (Meal)                                                       NaN                   \n",
      "Barley (Beer)                                                      NaN                   \n",
      "Oatmeal                                                     371.076923                   \n",
      "Rice                                                       3166.760563                   \n",
      "\n",
      "                     Freshwater withdrawals per kilogram (liters per kilogram)  \\\n",
      "Food product                                                                     \n",
      "Wheat & Rye (Bread)                                                NaN           \n",
      "Maize (Meal)                                                       NaN           \n",
      "Barley (Beer)                                                      NaN           \n",
      "Oatmeal                                                          482.4           \n",
      "Rice                                                            2248.4           \n",
      "\n",
      "                     Greenhouse gas emissions per 1000kcal (kgCO₂eq per 1000kcal)  \\\n",
      "Food product                                                                        \n",
      "Wheat & Rye (Bread)                                                NaN              \n",
      "Maize (Meal)                                                       NaN              \n",
      "Barley (Beer)                                                      NaN              \n",
      "Oatmeal                                                       0.945482              \n",
      "Rice                                                          1.207271              \n",
      "\n",
      "                     Greenhouse gas emissions per 100g protein (kgCO₂eq per 100g protein)  \\\n",
      "Food product                                                                                \n",
      "Wheat & Rye (Bread)                                                NaN                      \n",
      "Maize (Meal)                                                       NaN                      \n",
      "Barley (Beer)                                                      NaN                      \n",
      "Oatmeal                                                       1.907692                      \n",
      "Rice                                                          6.267606                      \n",
      "\n",
      "                     Land use per 1000kcal (m² per 1000kcal)  \\\n",
      "Food product                                                   \n",
      "Wheat & Rye (Bread)                                      NaN   \n",
      "Maize (Meal)                                             NaN   \n",
      "Barley (Beer)                                            NaN   \n",
      "Oatmeal                                             2.897446   \n",
      "Rice                                                0.759631   \n",
      "\n",
      "                     Land use per kilogram (m² per kilogram)  \\\n",
      "Food product                                                   \n",
      "Wheat & Rye (Bread)                                      NaN   \n",
      "Maize (Meal)                                             NaN   \n",
      "Barley (Beer)                                            NaN   \n",
      "Oatmeal                                                  7.6   \n",
      "Rice                                                     2.8   \n",
      "\n",
      "                     Land use per 100g protein (m² per 100g protein)  \\\n",
      "Food product                                                           \n",
      "Wheat & Rye (Bread)                                              NaN   \n",
      "Maize (Meal)                                                     NaN   \n",
      "Barley (Beer)                                                    NaN   \n",
      "Oatmeal                                                     5.846154   \n",
      "Rice                                                        3.943662   \n",
      "\n",
      "                     Scarcity-weighted water use per kilogram (liters per kilogram)  \\\n",
      "Food product                                                                          \n",
      "Wheat & Rye (Bread)                                                NaN                \n",
      "Maize (Meal)                                                       NaN                \n",
      "Barley (Beer)                                                      NaN                \n",
      "Oatmeal                                                        18786.2                \n",
      "Rice                                                           49576.3                \n",
      "\n",
      "                     Scarcity-weighted water use per 100g protein (liters per 100g protein)  \\\n",
      "Food product                                                                                  \n",
      "Wheat & Rye (Bread)                                                NaN                        \n",
      "Maize (Meal)                                                       NaN                        \n",
      "Barley (Beer)                                                      NaN                        \n",
      "Oatmeal                                                    14450.92308                        \n",
      "Rice                                                       69825.77465                        \n",
      "\n",
      "                     Scarcity-weighted water use per 1000kcal (liters per 1000 kilocalories)  \n",
      "Food product                                                                                  \n",
      "Wheat & Rye (Bread)                                                NaN                        \n",
      "Maize (Meal)                                                       NaN                        \n",
      "Barley (Beer)                                                      NaN                        \n",
      "Oatmeal                                                    7162.104461                        \n",
      "Rice                                                      13449.891480                        \n",
      "\n",
      "[5 rows x 22 columns]\n"
     ]
    }
   ],
   "source": [
    "print(df.head())"
   ]
  },
  {
   "cell_type": "code",
   "execution_count": null,
   "id": "4f023ad8",
   "metadata": {},
   "outputs": [],
   "source": []
  },
  {
   "cell_type": "code",
   "execution_count": 14,
   "id": "ebb4519e",
   "metadata": {},
   "outputs": [
    {
     "name": "stdout",
     "output_type": "stream",
     "text": [
      "<class 'pandas.core.frame.DataFrame'>\n",
      "Index: 43 entries, Wheat & Rye (Bread) to Shrimps (farmed)\n",
      "Data columns (total 22 columns):\n",
      " #   Column                                                                   Non-Null Count  Dtype  \n",
      "---  ------                                                                   --------------  -----  \n",
      " 0   Land use change                                                          43 non-null     float64\n",
      " 1   Animal Feed                                                              43 non-null     float64\n",
      " 2   Farm                                                                     43 non-null     float64\n",
      " 3   Processing                                                               43 non-null     float64\n",
      " 4   Transport                                                                43 non-null     float64\n",
      " 5   Packging                                                                 43 non-null     float64\n",
      " 6   Retail                                                                   43 non-null     float64\n",
      " 7   Total_emissions                                                          43 non-null     float64\n",
      " 8   Eutrophying emissions per 1000kcal (gPO₄eq per 1000kcal)                 33 non-null     float64\n",
      " 9   Eutrophying emissions per kilogram (gPO₄eq per kilogram)                 38 non-null     float64\n",
      " 10  Eutrophying emissions per 100g protein (gPO₄eq per 100 grams protein)    27 non-null     float64\n",
      " 11  Freshwater withdrawals per 1000kcal (liters per 1000kcal)                30 non-null     float64\n",
      " 12  Freshwater withdrawals per 100g protein (liters per 100g protein)        26 non-null     float64\n",
      " 13  Freshwater withdrawals per kilogram (liters per kilogram)                38 non-null     float64\n",
      " 14  Greenhouse gas emissions per 1000kcal (kgCO₂eq per 1000kcal)             33 non-null     float64\n",
      " 15  Greenhouse gas emissions per 100g protein (kgCO₂eq per 100g protein)     27 non-null     float64\n",
      " 16  Land use per 1000kcal (m² per 1000kcal)                                  33 non-null     float64\n",
      " 17  Land use per kilogram (m² per kilogram)                                  38 non-null     float64\n",
      " 18  Land use per 100g protein (m² per 100g protein)                          27 non-null     float64\n",
      " 19  Scarcity-weighted water use per kilogram (liters per kilogram)           38 non-null     float64\n",
      " 20  Scarcity-weighted water use per 100g protein (liters per 100g protein)   26 non-null     float64\n",
      " 21  Scarcity-weighted water use per 1000kcal (liters per 1000 kilocalories)  30 non-null     float64\n",
      "dtypes: float64(22)\n",
      "memory usage: 7.7+ KB\n",
      "None\n"
     ]
    }
   ],
   "source": [
    "print(df.info())"
   ]
  },
  {
   "cell_type": "code",
   "execution_count": null,
   "id": "de3e4f26",
   "metadata": {},
   "outputs": [],
   "source": []
  }
 ],
 "metadata": {
  "kernelspec": {
   "display_name": "Python 3 (ipykernel)",
   "language": "python",
   "name": "python3"
  },
  "language_info": {
   "codemirror_mode": {
    "name": "ipython",
    "version": 3
   },
   "file_extension": ".py",
   "mimetype": "text/x-python",
   "name": "python",
   "nbconvert_exporter": "python",
   "pygments_lexer": "ipython3",
   "version": "3.9.12"
  }
 },
 "nbformat": 4,
 "nbformat_minor": 5
}
